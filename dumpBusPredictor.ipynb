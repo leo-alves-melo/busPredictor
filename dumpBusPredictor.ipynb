{
  "nbformat": 4,
  "nbformat_minor": 0,
  "metadata": {
    "colab": {
      "name": "dumpBusPredictor.ipynb",
      "version": "0.3.2",
      "provenance": [],
      "collapsed_sections": [],
      "include_colab_link": true
    },
    "kernelspec": {
      "name": "python3",
      "display_name": "Python 3"
    }
  },
  "cells": [
    {
      "cell_type": "markdown",
      "metadata": {
        "id": "view-in-github",
        "colab_type": "text"
      },
      "source": [
        "<a href=\"https://colab.research.google.com/github/leo-alves-melo/busPredictor/blob/master/dumpBusPredictor.ipynb\" target=\"_parent\"><img src=\"https://colab.research.google.com/assets/colab-badge.svg\" alt=\"Open In Colab\"/></a>"
      ]
    },
    {
      "metadata": {
        "id": "nMCxrDTCBex5",
        "colab_type": "text"
      },
      "cell_type": "markdown",
      "source": [
        "Creating a dump algorithm for bus prediction given the location of the vehicle"
      ]
    },
    {
      "metadata": {
        "id": "AFzByfS2Dd7X",
        "colab_type": "code",
        "outputId": "f9219641-90aa-41cc-dd7b-c6d635354f72",
        "colab": {
          "base_uri": "https://localhost:8080/",
          "height": 139
        }
      },
      "cell_type": "code",
      "source": [
        "# Install dependencies\n",
        "!pip install arrow"
      ],
      "execution_count": 1,
      "outputs": [
        {
          "output_type": "stream",
          "text": [
            "Collecting arrow\n",
            "  Downloading https://files.pythonhosted.org/packages/f4/7f/0360628ba40bb93c10cd89cd289b6a8e9ea87b2db884b8edf32c80ee1c73/arrow-0.13.1-py2.py3-none-any.whl\n",
            "Requirement already satisfied: python-dateutil in /usr/local/lib/python3.6/dist-packages (from arrow) (2.5.3)\n",
            "Requirement already satisfied: six>=1.5 in /usr/local/lib/python3.6/dist-packages (from python-dateutil->arrow) (1.11.0)\n",
            "Installing collected packages: arrow\n",
            "Successfully installed arrow-0.13.1\n"
          ],
          "name": "stdout"
        }
      ]
    },
    {
      "metadata": {
        "id": "n2saW0lFGOwK",
        "colab_type": "code",
        "colab": {}
      },
      "cell_type": "code",
      "source": [
        "# Importing packages\n",
        "\n",
        "from oauthlib.oauth2 import BackendApplicationClient\n",
        "from requests_oauthlib import OAuth2Session\n",
        "import pprint\n",
        "import json\n",
        "import pandas as pd\n",
        "import numpy as np\n",
        "import arrow\n",
        "from pandas.io.json import json_normalize\n",
        "import matplotlib.pyplot as plt\n",
        "from functools import reduce\n",
        "from math import sin, cos, sqrt, atan2, radians\n",
        "from datetime import datetime\n",
        "from matplotlib import pyplot as plt\n",
        "%matplotlib inline"
      ],
      "execution_count": 0,
      "outputs": []
    },
    {
      "metadata": {
        "id": "lnW4eZa2Ao-8",
        "colab_type": "code",
        "colab": {}
      },
      "cell_type": "code",
      "source": [
        "# Setting variables\n",
        "\n",
        "base_api = 'https://api.demo.konkerlabs.net'\n",
        "username = \"student_smartcampus@konkerlabs.com\"\n",
        "password = 'SdExnFiHcGrK'\n",
        "\n",
        "circulino = \"3b7c728c-cf13-45ca-a803-d94a598113d0\"\n",
        "circulino1 = \"0b525e25-6962-4ee4-8f8a-834e3e33698d\"\n",
        "circulino2 = \"8ab6ae21-9d9e-4637-8c56-60ba15691fd2\"\n",
        "circulino3 = \"8f4ab4d2-203e-4043-b4b1-bffca39f8686\"\n",
        "circulino4 = \"6ce968a1-a32b-4f8c-bc39-4463f50f4591\"\n",
        "circulino5 = \"a028f083-8375-45ec-a42f-7e864fd5f8d7\"\n",
        "circulino6 = \"eb0ec27f-16d0-4504-a331-af5b1e24eac6\"\n",
        "circulino7 = \"826f5fe4-ec9b-4de7-87f8-93be40963612\"\n",
        "circulino8 = \"8a33a2fe-8325-4c71-b937-8cc75b85bca4\"\n",
        "\n",
        "# These are the available circulars because the others do not have data\n",
        "available_circulars = [circulino4, circulino5, circulino6, circulino7, circulino8]\n",
        "\n",
        "# Coordinates of the home of the circular\n",
        "latitude_home = -22.829636\n",
        "longitude_home = -47.061038\n",
        "home = {'geolocation':{'lat': latitude_home, 'lon': longitude_home}}\n",
        "\n",
        "time_formatter1 = '%Y-%m-%dT%H:%M:%S.%fZ'\n",
        "time_formatter2 = '%Y-%m-%dT%H:%M:%SZ'"
      ],
      "execution_count": 0,
      "outputs": []
    },
    {
      "metadata": {
        "id": "e06aJApZCLHe",
        "colab_type": "code",
        "colab": {}
      },
      "cell_type": "code",
      "source": [
        "# Defining Functions\n",
        "\n",
        "def get_data(guid):\n",
        "    global oauth\n",
        "    \n",
        "    dt_start = arrow.utcnow().to('America/Sao_Paulo').floor('day')\n",
        "    timestamp_init = dt_start.shift(days=-7).isoformat()\n",
        "    channel = 'info'\n",
        "    timestamp_final = arrow.utcnow().isoformat()\n",
        "    application = 'default'\n",
        "    result = []\n",
        "    lastlen = 0\n",
        "    while timestamp_init < timestamp_final:\n",
        "        try:\n",
        "            stats = oauth.get(\"https://api.demo.konkerlabs.net/v1/{}/incomingEvents?q=device:{} channel:{} timestamp:>{}&sort=oldest&limit=10000\".format(application,guid, channel, timestamp_init)).json()['result']\n",
        "            if (len(stats)<2) and (lastlen<20000):\n",
        "                break\n",
        "            timestamp_init = stats[-1]['timestamp']\n",
        "            result.extend(stats)\n",
        "            lastlen = len(stats)\n",
        "        except:\n",
        "            pass\n",
        "    return result\n",
        "\n",
        "# Calculates the distance in km\n",
        "def distance_between(position1, position2):\n",
        "    # approximate radius of earth in km\n",
        "    R = 6373.0\n",
        "\n",
        "    lat1 = radians(position1['geolocation']['lat'])\n",
        "    lon1 = radians(position1['geolocation']['lon'])\n",
        "    lat2 = radians(position2['geolocation']['lat'])\n",
        "    lon2 = radians(position2['geolocation']['lon'])\n",
        "\n",
        "    dlon = lon2 - lon1\n",
        "    dlat = lat2 - lat1\n",
        "    \n",
        "    a = sin(dlat / 2)**2 + cos(lat1) * cos(lat2) * sin(dlon / 2)**2\n",
        "    c = 2 * atan2(sqrt(a), sqrt(1 - a))\n",
        "    \n",
        "    distance = R * c\n",
        "    \n",
        "    return distance\n",
        "\n",
        "# Calculates the velocity in km/h\n",
        "def velocity_between(position1, position2):\n",
        "    \n",
        "    distance = distance_between(position1, position2)\n",
        "    \n",
        "    try:\n",
        "        time1 = datetime.strptime(position1['timestamp'], time_formatter1)\n",
        "    except:\n",
        "        time1 = datetime.strptime(position1['timestamp'], time_formatter2)\n",
        "        \n",
        "    try:\n",
        "        time2 = datetime.strptime(position2['timestamp'], time_formatter1)\n",
        "    except:\n",
        "        time2 = datetime.strptime(position2['timestamp'], time_formatter2)\n",
        "    time_delta = (time2 - time1).total_seconds()/3600\n",
        "\n",
        "    return distance/time_delta\n",
        "\n",
        "# Append the next coordenate if it is valid. Returns false when the path ended\n",
        "def validate_and_append_next_coordinate(coordinate, path): \n",
        "    \n",
        "    # Checks if it is the first coordinate of the path\n",
        "    if len(path) == 0:\n",
        "        \n",
        "        # Check if is close to the home, and if is, append the coordinate\n",
        "        if distance_between(coordinate, home) < 0.2:\n",
        "            return True, [coordinate]\n",
        "        else:\n",
        "            return True, []\n",
        "    \n",
        "    # Check if is duplicated\n",
        "    if coordinate == path[-1]:\n",
        "        return True, path\n",
        "    \n",
        "    # Checks if the velocity of the next coordinate is too big or greater than zero\n",
        "    if velocity_between(coordinate, path[-1]) > 100 and velocity_between(coordinate, path[-1]) > 0:\n",
        "        return True, path\n",
        "    \n",
        "    # Checks the time difference\n",
        "    try:\n",
        "        time1 = datetime.strptime(path[-1]['timestamp'], time_formatter1)\n",
        "    except:\n",
        "        time1 = datetime.strptime(path[-1]['timestamp'], time_formatter2)\n",
        "        \n",
        "    try:\n",
        "        time2 = datetime.strptime(coordinate['timestamp'], time_formatter1)\n",
        "    except:\n",
        "        time2 = datetime.strptime(coordinate['timestamp'], time_formatter2)\n",
        "        \n",
        "    if (time2 - time1).total_seconds() > 5*60:\n",
        "        return False, path\n",
        "    \n",
        "    # Checks the id\n",
        "    if coordinate['payload']['id_linha'] != path[-1]['payload']['id_linha']:\n",
        "        return False, path\n",
        "    \n",
        "    \n",
        "    # Check if the path have at least one coordinate far away from the home, so that the path started\n",
        "    biggest_distance = 0\n",
        "    for path_coordinate in path:\n",
        "        if distance_between(path_coordinate, home) > biggest_distance:\n",
        "            biggest_distance = distance_between(path_coordinate, home)\n",
        "    \n",
        "    \n",
        "    \n",
        "    # If the path already started\n",
        "    if biggest_distance > 1:\n",
        "        # If we are close to home\n",
        "        if distance_between(coordinate, home) < 0.2:\n",
        "            return False, path + [coordinate]\n",
        "        else:\n",
        "            return True, path + [coordinate]\n",
        "    else:\n",
        "        return True, path + [coordinate]\n",
        "    \n",
        "def create_paths(data):\n",
        "    paths = [[]]\n",
        "    index = 0\n",
        "    count = 0\n",
        "    count_int = 0\n",
        "    total = len(data)\n",
        "    for coordinate in data:\n",
        "        count += 1\n",
        "        if 100*count/total > count_int + 1:\n",
        "            count_int += 1\n",
        "\n",
        "            print(str(count_int) + \"%\")\n",
        "        still_appending, paths[index] = validate_and_append_next_coordinate(coordinate, paths[index])\n",
        "        if not still_appending:\n",
        "            index += 1\n",
        "            paths.append([])\n",
        "    \n",
        "    return paths\n",
        "\n",
        "def plot_path(path):\n",
        "    latitudes = [-coordinate['geolocation']['lat'] for coordinate in path]\n",
        "    longitudes = [coordinate['geolocation']['lon'] for coordinate in path]\n",
        "    plt.plot(latitudes, longitudes)\n",
        "    plt.show()"
      ],
      "execution_count": 0,
      "outputs": []
    },
    {
      "metadata": {
        "id": "CnXwZV0HCe0t",
        "colab_type": "code",
        "colab": {}
      },
      "cell_type": "code",
      "source": [
        "# Authenticating\n",
        "\n",
        "client = BackendApplicationClient(client_id=username)\n",
        "oauth = OAuth2Session(client=client)\n",
        "token = oauth.fetch_token(token_url='{}/v1/oauth/token'.format(base_api),client_id=username,client_secret=password)"
      ],
      "execution_count": 0,
      "outputs": []
    },
    {
      "metadata": {
        "id": "dDCPjQGYCxVY",
        "colab_type": "code",
        "colab": {}
      },
      "cell_type": "code",
      "source": [
        "# Reading all circular data\n",
        "\n",
        "data = []\n",
        "\n",
        "for circular in available_circulars:\n",
        "    data += get_data(circular)"
      ],
      "execution_count": 0,
      "outputs": []
    },
    {
      "metadata": {
        "id": "BHd9vKdCGmtC",
        "colab_type": "code",
        "outputId": "40e0fa70-84b9-4886-fdc6-78033d609886",
        "colab": {
          "base_uri": "https://localhost:8080/",
          "height": 34
        }
      },
      "cell_type": "code",
      "source": [
        "# Getting all possible id_linha\n",
        "\n",
        "id_lines = {}\n",
        "for json in data:\n",
        "    id_line = json['payload']['id_linha']\n",
        "    if id_line in id_lines:\n",
        "        id_lines[id_line] += 1\n",
        "    else:\n",
        "        id_lines[id_line] = 1\n",
        "\n",
        "print(id_lines)"
      ],
      "execution_count": 7,
      "outputs": [
        {
          "output_type": "stream",
          "text": [
            "{2: 50478, 3: 21005, 1: 99865, 4: 94540}\n"
          ],
          "name": "stdout"
        }
      ]
    },
    {
      "metadata": {
        "id": "MeKts3bJPTwO",
        "colab_type": "code",
        "outputId": "ef17faae-7eab-474d-c406-b572b3d7e23b",
        "colab": {
          "base_uri": "https://localhost:8080/",
          "height": 1700
        }
      },
      "cell_type": "code",
      "source": [
        "paths = create_paths(data)"
      ],
      "execution_count": 8,
      "outputs": [
        {
          "output_type": "stream",
          "text": [
            "1%\n",
            "2%\n",
            "3%\n",
            "4%\n",
            "5%\n",
            "6%\n",
            "7%\n",
            "8%\n",
            "9%\n",
            "10%\n",
            "11%\n",
            "12%\n",
            "13%\n",
            "14%\n",
            "15%\n",
            "16%\n",
            "17%\n",
            "18%\n",
            "19%\n",
            "20%\n",
            "21%\n",
            "22%\n",
            "23%\n",
            "24%\n",
            "25%\n",
            "26%\n",
            "27%\n",
            "28%\n",
            "29%\n",
            "30%\n",
            "31%\n",
            "32%\n",
            "33%\n",
            "34%\n",
            "35%\n",
            "36%\n",
            "37%\n",
            "38%\n",
            "39%\n",
            "40%\n",
            "41%\n",
            "42%\n",
            "43%\n",
            "44%\n",
            "45%\n",
            "46%\n",
            "47%\n",
            "48%\n",
            "49%\n",
            "50%\n",
            "51%\n",
            "52%\n",
            "53%\n",
            "54%\n",
            "55%\n",
            "56%\n",
            "57%\n",
            "58%\n",
            "59%\n",
            "60%\n",
            "61%\n",
            "62%\n",
            "63%\n",
            "64%\n",
            "65%\n",
            "66%\n",
            "67%\n",
            "68%\n",
            "69%\n",
            "70%\n",
            "71%\n",
            "72%\n",
            "73%\n",
            "74%\n",
            "75%\n",
            "76%\n",
            "77%\n",
            "78%\n",
            "79%\n",
            "80%\n",
            "81%\n",
            "82%\n",
            "83%\n",
            "84%\n",
            "85%\n",
            "86%\n",
            "87%\n",
            "88%\n",
            "89%\n",
            "90%\n",
            "91%\n",
            "92%\n",
            "93%\n",
            "94%\n",
            "95%\n",
            "96%\n",
            "97%\n",
            "98%\n",
            "99%\n"
          ],
          "name": "stdout"
        }
      ]
    },
    {
      "metadata": {
        "id": "mNLCD3i5MA6a",
        "colab_type": "code",
        "outputId": "25c80fec-0032-4dbb-9472-9b0e8b4a3a20",
        "colab": {
          "base_uri": "https://localhost:8080/",
          "height": 275
        }
      },
      "cell_type": "code",
      "source": [
        ""
      ],
      "execution_count": 9,
      "outputs": [
        {
          "output_type": "stream",
          "text": [
            "Collecting gmplot\n",
            "\u001b[?25l  Downloading https://files.pythonhosted.org/packages/e2/b1/e1429c31a40b3ef5840c16f78b506d03be9f27e517d3870a6fd0b356bd46/gmplot-1.2.0.tar.gz (115kB)\n",
            "\r\u001b[K    8% |██▉                             | 10kB 15.8MB/s eta 0:00:01\r\u001b[K    17% |█████▊                          | 20kB 3.3MB/s eta 0:00:01\r\u001b[K    26% |████████▌                       | 30kB 4.7MB/s eta 0:00:01\r\u001b[K    35% |███████████▍                    | 40kB 3.1MB/s eta 0:00:01\r\u001b[K    44% |██████████████▏                 | 51kB 3.8MB/s eta 0:00:01\r\u001b[K    53% |█████████████████               | 61kB 4.5MB/s eta 0:00:01\r\u001b[K    62% |████████████████████            | 71kB 5.1MB/s eta 0:00:01\r\u001b[K    71% |██████████████████████▊         | 81kB 5.7MB/s eta 0:00:01\r\u001b[K    79% |█████████████████████████▋      | 92kB 6.4MB/s eta 0:00:01\r\u001b[K    88% |████████████████████████████▍   | 102kB 5.1MB/s eta 0:00:01\r\u001b[K    97% |███████████████████████████████▎| 112kB 5.1MB/s eta 0:00:01\r\u001b[K    100% |████████████████████████████████| 122kB 6.4MB/s \n",
            "\u001b[?25hRequirement already satisfied: requests in /usr/local/lib/python3.6/dist-packages (from gmplot) (2.18.4)\n",
            "Requirement already satisfied: chardet<3.1.0,>=3.0.2 in /usr/local/lib/python3.6/dist-packages (from requests->gmplot) (3.0.4)\n",
            "Requirement already satisfied: certifi>=2017.4.17 in /usr/local/lib/python3.6/dist-packages (from requests->gmplot) (2019.3.9)\n",
            "Requirement already satisfied: idna<2.7,>=2.5 in /usr/local/lib/python3.6/dist-packages (from requests->gmplot) (2.6)\n",
            "Requirement already satisfied: urllib3<1.23,>=1.21.1 in /usr/local/lib/python3.6/dist-packages (from requests->gmplot) (1.22)\n",
            "Building wheels for collected packages: gmplot\n",
            "  Building wheel for gmplot (setup.py) ... \u001b[?25ldone\n",
            "\u001b[?25h  Stored in directory: /root/.cache/pip/wheels/81/6a/76/4dd6a7cc310ba765894159ee84871e8cd55221d82ef14b81a1\n",
            "Successfully built gmplot\n",
            "Installing collected packages: gmplot\n",
            "Successfully installed gmplot-1.2.0\n"
          ],
          "name": "stdout"
        }
      ]
    },
    {
      "metadata": {
        "id": "9b66vf-d58Kt",
        "colab_type": "code",
        "outputId": "35999548-0935-47c7-c92c-25f776d74ed2",
        "colab": {
          "base_uri": "https://localhost:8080/",
          "height": 265
        }
      },
      "cell_type": "code",
      "source": [
        "plot_path(paths[0])"
      ],
      "execution_count": 11,
      "outputs": [
        {
          "output_type": "display_data",
          "data": {
            "image/png": "[encoded data removed]",
            "text/plain": [
              "<Figure size 432x288 with 1 Axes>"
            ]
          },
          "metadata": {
            "tags": []
          }
        }
      ]
    },
    {
      "metadata": {
        "id": "6LLl0oW8_DoO",
        "colab_type": "code",
        "colab": {}
      },
      "cell_type": "code",
      "source": [
        ""
      ],
      "execution_count": 0,
      "outputs": []
    }
  ]
}