{
  "nbformat": 4,
  "nbformat_minor": 0,
  "metadata": {
    "colab": {
      "name": "dumpBusPredictor.ipynb",
      "version": "0.3.2",
      "provenance": [],
      "collapsed_sections": [],
      "include_colab_link": true
    },
    "kernelspec": {
      "name": "python3",
      "display_name": "Python 3"
    }
  },
  "cells": [
    {
      "cell_type": "markdown",
      "metadata": {
        "id": "view-in-github",
        "colab_type": "text"
      },
      "source": [
        "<a href=\"https://colab.research.google.com/github/leo-alves-melo/busPredictor/blob/master/dumpBusPredictor.ipynb\" target=\"_parent\"><img src=\"https://colab.research.google.com/assets/colab-badge.svg\" alt=\"Open In Colab\"/></a>"
      ]
    },
    {
      "metadata": {
        "id": "nMCxrDTCBex5",
        "colab_type": "text"
      },
      "cell_type": "markdown",
      "source": [
        "Creating a dump algorithm for bus prediction given the location of the vehicle"
      ]
    },
    {
      "metadata": {
        "id": "AFzByfS2Dd7X",
        "colab_type": "code",
        "outputId": "83ea0977-be64-4e2c-9dae-62f6ada49dca",
        "colab": {
          "base_uri": "https://localhost:8080/",
          "height": 68
        }
      },
      "cell_type": "code",
      "source": [
        "# Install dependencies\n",
        "!pip install arrow"
      ],
      "execution_count": 2,
      "outputs": [
        {
          "output_type": "stream",
          "text": [
            "Requirement already satisfied: arrow in /usr/local/lib/python3.6/dist-packages (0.13.1)\n",
            "Requirement already satisfied: python-dateutil in /usr/local/lib/python3.6/dist-packages (from arrow) (2.5.3)\n",
            "Requirement already satisfied: six>=1.5 in /usr/local/lib/python3.6/dist-packages (from python-dateutil->arrow) (1.11.0)\n"
          ],
          "name": "stdout"
        }
      ]
    },
    {
      "metadata": {
        "id": "n2saW0lFGOwK",
        "colab_type": "code",
        "colab": {}
      },
      "cell_type": "code",
      "source": [
        "# Importing packages\n",
        "\n",
        "from oauthlib.oauth2 import BackendApplicationClient\n",
        "from requests_oauthlib import OAuth2Session\n",
        "import pprint\n",
        "import json\n",
        "import pandas as pd\n",
        "import numpy as np\n",
        "import arrow\n",
        "from pandas.io.json import json_normalize\n",
        "import matplotlib.pyplot as plt\n",
        "from functools import reduce\n",
        "from math import sin, cos, sqrt, atan2, radians\n",
        "from datetime import datetime\n",
        "%matplotlib inline"
      ],
      "execution_count": 0,
      "outputs": []
    },
    {
      "metadata": {
        "id": "lnW4eZa2Ao-8",
        "colab_type": "code",
        "colab": {}
      },
      "cell_type": "code",
      "source": [
        "# Setting variables\n",
        "\n",
        "base_api = 'https://api.demo.konkerlabs.net'\n",
        "username = \"student_smartcampus@konkerlabs.com\"\n",
        "password = 'SdExnFiHcGrK'\n",
        "\n",
        "circulino = \"3b7c728c-cf13-45ca-a803-d94a598113d0\"\n",
        "circulino1 = \"0b525e25-6962-4ee4-8f8a-834e3e33698d\"\n",
        "circulino2 = \"8ab6ae21-9d9e-4637-8c56-60ba15691fd2\"\n",
        "circulino3 = \"8f4ab4d2-203e-4043-b4b1-bffca39f8686\"\n",
        "circulino4 = \"6ce968a1-a32b-4f8c-bc39-4463f50f4591\"\n",
        "circulino5 = \"a028f083-8375-45ec-a42f-7e864fd5f8d7\"\n",
        "circulino6 = \"eb0ec27f-16d0-4504-a331-af5b1e24eac6\"\n",
        "circulino7 = \"826f5fe4-ec9b-4de7-87f8-93be40963612\"\n",
        "circulino8 = \"8a33a2fe-8325-4c71-b937-8cc75b85bca4\"\n",
        "\n",
        "# These are the available circulars because the others do not have data\n",
        "available_circulars = [circulino4, circulino5, circulino6, circulino7, circulino8]\n",
        "\n",
        "# Coordinates of the home of the circular\n",
        "latitude_home = -22.829636\n",
        "longitude_home = -47.061038\n",
        "home = {'geolocation':{'lat': latitude_home, 'lon': longitude_home}}"
      ],
      "execution_count": 0,
      "outputs": []
    },
    {
      "metadata": {
        "id": "e06aJApZCLHe",
        "colab_type": "code",
        "colab": {}
      },
      "cell_type": "code",
      "source": [
        "# Defining Functions\n",
        "\n",
        "def get_data(guid):\n",
        "    global oauth\n",
        "    \n",
        "    dt_start = arrow.utcnow().to('America/Sao_Paulo').floor('day')\n",
        "    timestamp_init = dt_start.shift(days=-7).isoformat()\n",
        "    channel = 'info'\n",
        "    timestamp_final = arrow.utcnow().isoformat()\n",
        "    application = 'default'\n",
        "    result = []\n",
        "    lastlen = 0\n",
        "    while timestamp_init < timestamp_final:\n",
        "        try:\n",
        "            stats = oauth.get(\"https://api.demo.konkerlabs.net/v1/{}/incomingEvents?q=device:{} channel:{} timestamp:>{}&sort=oldest&limit=10000\".format(application,guid, channel, timestamp_init)).json()['result']\n",
        "            if (len(stats)<2) and (lastlen<20000):\n",
        "                break\n",
        "            timestamp_init = stats[-1]['timestamp']\n",
        "            result.extend(stats)\n",
        "            lastlen = len(stats)\n",
        "        except:\n",
        "            pass\n",
        "    return result\n",
        "\n",
        "# Calculates the distance in km\n",
        "def distance_between(position1, position2):\n",
        "    # approximate radius of earth in km\n",
        "    R = 6373.0\n",
        "\n",
        "    lat1 = radians(position1['geolocation']['lat'])\n",
        "    lon1 = radians(position1['geolocation']['lon'])\n",
        "    lat2 = radians(position2['geolocation']['lat'])\n",
        "    lon2 = radians(position2['geolocation']['lon'])\n",
        "\n",
        "    dlon = lon2 - lon1\n",
        "    dlat = lat2 - lat1\n",
        "    \n",
        "    a = sin(dlat / 2)**2 + cos(lat1) * cos(lat2) * sin(dlon / 2)**2\n",
        "    c = 2 * atan2(sqrt(a), sqrt(1 - a))\n",
        "    \n",
        "    distance = R * c\n",
        "    \n",
        "    return distance\n",
        "\n",
        "# Calculates the velocity in km/h\n",
        "def velocity_between(position1, position2):\n",
        "    \n",
        "    distance = distance_between(position1, position2)\n",
        "    \n",
        "    time1 = datetime.strptime(position1['timestamp'], '%Y-%m-%dT%H:%M:%S.%fZ')\n",
        "    time2 = datetime.strptime(position2['timestamp'], '%Y-%m-%dT%H:%M:%S.%fZ')\n",
        "\n",
        "    time_delta = (time2 - time1).total_seconds()/3600\n",
        "\n",
        "    return distance/time_delta"
      ],
      "execution_count": 0,
      "outputs": []
    },
    {
      "metadata": {
        "id": "CnXwZV0HCe0t",
        "colab_type": "code",
        "colab": {}
      },
      "cell_type": "code",
      "source": [
        "# Authenticating\n",
        "\n",
        "client = BackendApplicationClient(client_id=username)\n",
        "oauth = OAuth2Session(client=client)\n",
        "token = oauth.fetch_token(token_url='{}/v1/oauth/token'.format(base_api),client_id=username,client_secret=password)"
      ],
      "execution_count": 0,
      "outputs": []
    },
    {
      "metadata": {
        "id": "dDCPjQGYCxVY",
        "colab_type": "code",
        "colab": {}
      },
      "cell_type": "code",
      "source": [
        "# Reading all circular data\n",
        "\n",
        "data = []\n",
        "\n",
        "for circular in available_circulars:\n",
        "    data += get_data(circular)"
      ],
      "execution_count": 0,
      "outputs": []
    },
    {
      "metadata": {
        "id": "BHd9vKdCGmtC",
        "colab_type": "code",
        "outputId": "14f17839-7aff-4bbb-b874-40c27f618544",
        "colab": {
          "base_uri": "https://localhost:8080/",
          "height": 34
        }
      },
      "cell_type": "code",
      "source": [
        "# Getting all possible id_linha\n",
        "\n",
        "id_lines = {}\n",
        "for json in data:\n",
        "    id_line = json['payload']['id_linha']\n",
        "    if id_line in id_lines:\n",
        "        id_lines[id_line] += 1\n",
        "    else:\n",
        "        id_lines[id_line] = 1\n",
        "\n",
        "print(id_lines)"
      ],
      "execution_count": 0,
      "outputs": [
        {
          "output_type": "stream",
          "text": [
            "{2: 31214, 4: 91564, 3: 24007, 1: 88110}\n"
          ],
          "name": "stdout"
        }
      ]
    },
    {
      "metadata": {
        "id": "MeKts3bJPTwO",
        "colab_type": "code",
        "outputId": "b3a79631-8ccd-433a-efd5-ec0e51d393ec",
        "colab": {
          "base_uri": "https://localhost:8080/"
        }
      },
      "cell_type": "code",
      "source": [
        "\n",
        "    \n",
        "print('')\n"
      ],
      "execution_count": 0,
      "outputs": [
        {
          "output_type": "stream",
          "text": [
            "\n"
          ],
          "name": "stdout"
        }
      ]
    },
    {
      "metadata": {
        "id": "mNLCD3i5MA6a",
        "colab_type": "code",
        "outputId": "541ed9d1-943e-4df8-f1ca-b1c25ef77e79",
        "colab": {
          "base_uri": "https://localhost:8080/",
          "height": 283
        }
      },
      "cell_type": "code",
      "source": [
        "# Separate my dataset by id_line and days\n",
        "\n",
        "dataset = []\n",
        "\n",
        "for id_line in id_lines:\n",
        "    all_elements_of_this_id = list(filter(lambda json: json['payload']['id_linha'] == id_line, data))\n",
        "    # Separate by day\n",
        "    elements_separated_by_day = reduce(lambda elements, json: df, all_elements_of_this_id, {})"
      ],
      "execution_count": 0,
      "outputs": [
        {
          "output_type": "error",
          "ename": "NameError",
          "evalue": "ignored",
          "traceback": [
            "\u001b[0;31m---------------------------------------------------------------------------\u001b[0m",
            "\u001b[0;31mNameError\u001b[0m                                 Traceback (most recent call last)",
            "\u001b[0;32m<ipython-input-40-a8783cbbe29f>\u001b[0m in \u001b[0;36m<module>\u001b[0;34m()\u001b[0m\n\u001b[1;32m      5\u001b[0m     \u001b[0mall_elements_of_this_id\u001b[0m \u001b[0;34m=\u001b[0m \u001b[0mlist\u001b[0m\u001b[0;34m(\u001b[0m\u001b[0mfilter\u001b[0m\u001b[0;34m(\u001b[0m\u001b[0;32mlambda\u001b[0m \u001b[0mjson\u001b[0m\u001b[0;34m:\u001b[0m \u001b[0mjson\u001b[0m\u001b[0;34m[\u001b[0m\u001b[0;34m'payload'\u001b[0m\u001b[0;34m]\u001b[0m\u001b[0;34m[\u001b[0m\u001b[0;34m'id_linha'\u001b[0m\u001b[0;34m]\u001b[0m \u001b[0;34m==\u001b[0m \u001b[0mid_line\u001b[0m\u001b[0;34m,\u001b[0m \u001b[0mdata\u001b[0m\u001b[0;34m)\u001b[0m\u001b[0;34m)\u001b[0m\u001b[0;34m\u001b[0m\u001b[0;34m\u001b[0m\u001b[0m\n\u001b[1;32m      6\u001b[0m     \u001b[0;31m# Separate by day\u001b[0m\u001b[0;34m\u001b[0m\u001b[0;34m\u001b[0m\u001b[0;34m\u001b[0m\u001b[0m\n\u001b[0;32m----> 7\u001b[0;31m     \u001b[0melements_separated_by_day\u001b[0m \u001b[0;34m=\u001b[0m \u001b[0mreduce\u001b[0m\u001b[0;34m(\u001b[0m\u001b[0;32mlambda\u001b[0m \u001b[0melements\u001b[0m\u001b[0;34m,\u001b[0m \u001b[0mjson\u001b[0m\u001b[0;34m:\u001b[0m \u001b[0mdf\u001b[0m\u001b[0;34m,\u001b[0m \u001b[0mall_elements_of_this_id\u001b[0m\u001b[0;34m,\u001b[0m \u001b[0;34m{\u001b[0m\u001b[0;34m}\u001b[0m\u001b[0;34m)\u001b[0m\u001b[0;34m\u001b[0m\u001b[0;34m\u001b[0m\u001b[0m\n\u001b[0m",
            "\u001b[0;32m<ipython-input-40-a8783cbbe29f>\u001b[0m in \u001b[0;36m<lambda>\u001b[0;34m(elements, json)\u001b[0m\n\u001b[1;32m      5\u001b[0m     \u001b[0mall_elements_of_this_id\u001b[0m \u001b[0;34m=\u001b[0m \u001b[0mlist\u001b[0m\u001b[0;34m(\u001b[0m\u001b[0mfilter\u001b[0m\u001b[0;34m(\u001b[0m\u001b[0;32mlambda\u001b[0m \u001b[0mjson\u001b[0m\u001b[0;34m:\u001b[0m \u001b[0mjson\u001b[0m\u001b[0;34m[\u001b[0m\u001b[0;34m'payload'\u001b[0m\u001b[0;34m]\u001b[0m\u001b[0;34m[\u001b[0m\u001b[0;34m'id_linha'\u001b[0m\u001b[0;34m]\u001b[0m \u001b[0;34m==\u001b[0m \u001b[0mid_line\u001b[0m\u001b[0;34m,\u001b[0m \u001b[0mdata\u001b[0m\u001b[0;34m)\u001b[0m\u001b[0;34m)\u001b[0m\u001b[0;34m\u001b[0m\u001b[0;34m\u001b[0m\u001b[0m\n\u001b[1;32m      6\u001b[0m     \u001b[0;31m# Separate by day\u001b[0m\u001b[0;34m\u001b[0m\u001b[0;34m\u001b[0m\u001b[0;34m\u001b[0m\u001b[0m\n\u001b[0;32m----> 7\u001b[0;31m     \u001b[0melements_separated_by_day\u001b[0m \u001b[0;34m=\u001b[0m \u001b[0mreduce\u001b[0m\u001b[0;34m(\u001b[0m\u001b[0;32mlambda\u001b[0m \u001b[0melements\u001b[0m\u001b[0;34m,\u001b[0m \u001b[0mjson\u001b[0m\u001b[0;34m:\u001b[0m \u001b[0mdf\u001b[0m\u001b[0;34m,\u001b[0m \u001b[0mall_elements_of_this_id\u001b[0m\u001b[0;34m,\u001b[0m \u001b[0;34m{\u001b[0m\u001b[0;34m}\u001b[0m\u001b[0;34m)\u001b[0m\u001b[0;34m\u001b[0m\u001b[0;34m\u001b[0m\u001b[0m\n\u001b[0m",
            "\u001b[0;31mNameError\u001b[0m: name 'df' is not defined"
          ]
        }
      ]
    }
  ]
}