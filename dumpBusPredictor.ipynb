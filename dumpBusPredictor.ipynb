{
  "nbformat": 4,
  "nbformat_minor": 0,
  "metadata": {
    "colab": {
      "name": "dumpBusPredictor.ipynb",
      "version": "0.3.2",
      "provenance": [],
      "collapsed_sections": [],
      "include_colab_link": true
    },
    "kernelspec": {
      "name": "python3",
      "display_name": "Python 3"
    }
  },
  "cells": [
    {
      "cell_type": "markdown",
      "metadata": {
        "id": "view-in-github",
        "colab_type": "text"
      },
      "source": [
        "<a href=\"https://colab.research.google.com/github/leo-alves-melo/busPredictor/blob/master/dumpBusPredictor.ipynb\" target=\"_parent\"><img src=\"https://colab.research.google.com/assets/colab-badge.svg\" alt=\"Open In Colab\"/></a>"
      ]
    },
    {
      "metadata": {
        "id": "nMCxrDTCBex5",
        "colab_type": "text"
      },
      "cell_type": "markdown",
      "source": [
        "Creating a dump algorithm for bus prediction given the location of the vehicle"
      ]
    },
    {
      "metadata": {
        "id": "AFzByfS2Dd7X",
        "colab_type": "code",
        "outputId": "e482c943-7773-4745-dc27-86eb289355dd",
        "colab": {
          "base_uri": "https://localhost:8080/",
          "height": 68
        }
      },
      "cell_type": "code",
      "source": [
        "# Install dependencies\n",
        "!pip install arrow"
      ],
      "execution_count": 6,
      "outputs": [
        {
          "output_type": "stream",
          "text": [
            "Requirement already satisfied: arrow in /usr/local/lib/python3.6/dist-packages (0.13.1)\n",
            "Requirement already satisfied: python-dateutil in /usr/local/lib/python3.6/dist-packages (from arrow) (2.5.3)\n",
            "Requirement already satisfied: six>=1.5 in /usr/local/lib/python3.6/dist-packages (from python-dateutil->arrow) (1.11.0)\n"
          ],
          "name": "stdout"
        }
      ]
    },
    {
      "metadata": {
        "id": "n2saW0lFGOwK",
        "colab_type": "code",
        "colab": {}
      },
      "cell_type": "code",
      "source": [
        "# Importing packages\n",
        "\n",
        "from oauthlib.oauth2 import BackendApplicationClient\n",
        "from requests_oauthlib import OAuth2Session\n",
        "import pprint\n",
        "import json\n",
        "import pandas as pd\n",
        "import numpy as np\n",
        "import arrow\n",
        "from pandas.io.json import json_normalize\n",
        "import matplotlib.pyplot as plt\n",
        "from functools import reduce\n",
        "from math import sin, cos, sqrt, atan2, radians\n",
        "from datetime import datetime\n",
        "from matplotlib import pyplot as plt\n",
        "import numpy as np\n",
        "import matplotlib.cm as cm\n",
        "from datetime import timedelta\n",
        "import copy\n",
        "from google.colab import files\n",
        "import pandas as pd\n",
        "from sklearn import datasets\n",
        "from sklearn.model_selection import train_test_split\n",
        "from sklearn.naive_bayes import GaussianNB\n",
        "%matplotlib inline"
      ],
      "execution_count": 0,
      "outputs": []
    },
    {
      "metadata": {
        "id": "lnW4eZa2Ao-8",
        "colab_type": "code",
        "colab": {}
      },
      "cell_type": "code",
      "source": [
        "# Setting variables\n",
        "\n",
        "base_api = 'https://api.demo.konkerlabs.net'\n",
        "username = \"student_smartcampus@konkerlabs.com\"\n",
        "password = 'SdExnFiHcGrK'\n",
        "\n",
        "circulino = \"3b7c728c-cf13-45ca-a803-d94a598113d0\"\n",
        "circulino1 = \"0b525e25-6962-4ee4-8f8a-834e3e33698d\"\n",
        "circulino2 = \"8ab6ae21-9d9e-4637-8c56-60ba15691fd2\"\n",
        "circulino3 = \"8f4ab4d2-203e-4043-b4b1-bffca39f8686\"\n",
        "circulino4 = \"6ce968a1-a32b-4f8c-bc39-4463f50f4591\"\n",
        "circulino5 = \"a028f083-8375-45ec-a42f-7e864fd5f8d7\"\n",
        "circulino6 = \"eb0ec27f-16d0-4504-a331-af5b1e24eac6\"\n",
        "circulino7 = \"826f5fe4-ec9b-4de7-87f8-93be40963612\"\n",
        "circulino8 = \"8a33a2fe-8325-4c71-b937-8cc75b85bca4\"\n",
        "\n",
        "# These are the available circulars because the others do not have data\n",
        "available_circulars = [circulino4, circulino5, circulino6, circulino7, circulino8]\n",
        "\n",
        "# Coordinates of the home of the circular\n",
        "latitude_home = -22.829636\n",
        "longitude_home = -47.061038\n",
        "home = {'geolocation':{'lat': latitude_home, 'lon': longitude_home}} \n",
        "\n",
        "time_formatter1 = '%Y-%m-%dT%H:%M:%S.%fZ'\n",
        "time_formatter2 = '%Y-%m-%dT%H:%M:%SZ'\n",
        "\n",
        "bus_stop_latitude = [-22.82961372593675,-22.827572007972478,-22.827839460784613,-22.82572604482161,-22.824259395268815,-22.824342054788538,-22.82339495615896,-22.823696505309023,-22.819732610271284,-22.818471307010142,-22.818031511340962,-22.818063107264045,-22.81897827715408,-22.81851763367064,-22.816911924943703,-22.8149687910257,-22.81348716556454,-22.812519511209437,-22.812994160952606,-22.81423669359395,-22.81654917375286,-22.819294695494193,-22.82167567621637,-22.825048660966733,-22.827383217435795,-22.82880780070171,-22.830572518710206,-22.82966004880576,-22.82961372593675,-22.827572007972478,-22.827839460784613,-22.82572604482161,-22.824234047789606,-22.822700953548658,-22.821469396127068,-22.819146975421376,-22.816566655760123,-22.81417771866976,-22.813895379025784,-22.813831568436914,-22.812777378217994,-22.81348716556454,-22.81504658684353,-22.81561825362484,-22.817031676329528,-22.819334903296923,-22.821000894424408,-22.821312063645497,-22.819994834014597,-22.817413656323698,-22.81471355050243,-22.81566370714975,-22.818063107264045,-22.81826851842413,-22.818182857637566,-22.81834806053481,-22.819694150746503,-22.823807510190303,-22.82486161502456,-22.827383217435795,-22.82880780070171,-22.830572518710206,-22.82966004880576,-22.82961372593675,-22.827572007972478,-22.827839460784613,-22.82572604482161,-22.824234047789606,-22.822700953548658,-22.821469396127068,-22.819146975421376,-22.816566655760123,-22.81417771866976,-22.813895379025784,-22.813831568436914,-22.812777378217994,-22.81348716556454,-22.81504658684353,-22.81561825362484,-22.817031676329528,-22.819334903296923,-22.821000894424408,-22.821312063645497,-22.819994834014597,-22.817413656323698,-22.81471355050243,-22.81466547432292,-22.81404623926024,-22.81348716556454,-22.81566370714975,-22.818063107264045,-22.81826851842413,-22.818182857637566,-22.81834806053481,-22.819694150746503,-22.823807510190303,-22.82486161502456,-22.827383217435795,-22.82880780070171,-22.830572518710206,-22.82966004880576,-22.82961372593675,-22.827572007972478,-22.827839460784613,-22.82572604482161,-22.824234047789606,-22.822700953548658,-22.821469396127068,-22.819146975421376,-22.816566655760123,-22.81417771866976,-22.813895379025784,-22.814990643788022,-22.817031676329528,-22.819334903296923,-22.821000894424408,-22.821312063645497,-22.819994834014597,-22.817413656323698,-22.81471355050243,-22.81566370714975,-22.818063107264045,-22.824468293279722,-22.82486161502456,-22.827383217435795,-22.82880780070171,-22.830572518710206,-22.82966004880576]\n",
        "bus_stop_longitude = [-47.06137016415596,-47.06275820732117,-47.06677682697773,-47.06618271768093,-47.06345960497856,-47.059839963912964,-47.060167863965034,-47.061488181352615,-47.06003777682781,-47.05960728228092,-47.0604857057333,-47.06308342516422,-47.064886540174484,-47.06610158085823,-47.06609085202217,-47.06696391105652,-47.065243273973465,-47.06756003201008,-47.06950530409813,-47.07185357809061,-47.07285739481449,-47.07241617143154,-47.070336788892746,-47.067298516631126,-47.067575454711914,-47.066226303577366,-47.06210911273956,-47.06069424748421,-47.06137016415596,-47.06275820732117,-47.06677682697773,-47.06618271768093,-47.06772968173027,-47.06905469298363,-47.07022547721863,-47.07222707569599,-47.07261733710766,-47.071487456560135,-47.069668248295784,-47.06821247935295,-47.0677524805069,-47.065243273973465,-47.06436015665531,-47.06585146486759,-47.06623703241348,-47.06711947917938,-47.068121284246445,-47.067411839962006,-47.06532709300518,-47.063652724027634,-47.064024209976196,-47.06265024840826,-47.06308342516422,-47.063074707984924,-47.06050112843508,-47.05967500805855,-47.06013835966587,-47.06294797360897,-47.06547796726227,-47.067575454711914,-47.066226303577366,-47.06210911273956,-47.06069424748421,-47.06137016415596,-47.06275820732117,-47.06677682697773,-47.06618271768093,-47.06772968173027,-47.06905469298363,-47.07022547721863,-47.07222707569599,-47.07261733710766,-47.071487456560135,-47.069668248295784,-47.06821247935295,-47.0677524805069,-47.065243273973465,-47.06436015665531,-47.06585146486759,-47.06623703241348,-47.06711947917938,-47.068121284246445,-47.067411839962006,-47.06532709300518,-47.063652724027634,-47.064024209976196,-47.05708935856819,-47.05889314413065,-47.065243273973465,-47.06265024840826,-47.06308342516422,-47.063074707984924,-47.06050112843508,-47.05967500805855,-47.06013835966587,-47.06294797360897,-47.06547796726227,-47.067575454711914,-47.066226303577366,-47.06210911273956,-47.06069424748421,-47.06137016415596,-47.06275820732117,-47.06677682697773,-47.06618271768093,-47.06772968173027,-47.06905469298363,-47.07022547721863,-47.07222707569599,-47.07261733710766,-47.071487456560135,-47.069668248295784,-47.067154347896576,-47.06623703241348,-47.06711947917938,-47.068121284246445,-47.067411839962006,-47.06532709300518,-47.063652724027634,-47.064024209976196,-47.06265024840826,-47.06308342516422,-47.06490330398077,-47.06547796726227,-47.067575454711914,-47.066226303577366,-47.06210911273956,-47.06069424748421]\n"
      ],
      "execution_count": 0,
      "outputs": []
    },
    {
      "metadata": {
        "id": "6tPcnAcZI-S7",
        "colab_type": "code",
        "colab": {}
      },
      "cell_type": "code",
      "source": [
        "# Classes definitions\n",
        "\n",
        "# Coordinate of a \n",
        "class Coordinate():\n",
        "    def __init__(self, latitude, longitude, timestamp = None, id_line = None, guid = None):\n",
        "        self.latitude = latitude\n",
        "        self.longitude = longitude\n",
        "        self.timestamp = timestamp\n",
        "        self.id_line = id_line\n",
        "        self.device_guid = guid\n",
        "    \n",
        "    def from_coordinate(coordinate):\n",
        "        return Coordinate(coordinate.latitude, coordinate.longitude, coordinate.timestamp, coordinate.id_line, coordinate.device_guid)\n",
        "        \n",
        "class Path():\n",
        "    def __init__(self, coordinates, id_line):\n",
        "        self.coordinates = coordinates\n",
        "        self.id_line = id_line\n",
        "        \n",
        "class Predictor():\n",
        "    def __init__(self, algorithm):\n",
        "        self.algorithm = algorithm\n",
        "        self.next_path()\n",
        "        \n",
        "    def train(self, X, y):\n",
        "        self.algorithm.fit(np.array(X), np.array(y))\n",
        "    \n",
        "    def next_path(self):\n",
        "        self.reset_path()\n",
        "        \n",
        "    def reset_path(self):\n",
        "        self.path = []\n",
        "    \n",
        "    def iterate(self, coordinate):\n",
        "        self.path.append(coordinate)\n",
        "        return self.algorithm.predict(np.array(self.path))\n",
        "    \n",
        "class DumpAlgorithm():\n",
        "    def fit(self, X, y):\n",
        "        pass\n",
        "    \n",
        "    def predict(self, path):\n",
        "        musium_hot_point = Coordinate(-22.814127, -47.058833)\n",
        "        circular1_hot_point = Coordinate(-22.824493, -47.059594)\n",
        "        fec_hot_point = Coordinate(-22.817975, -47.059667)\n",
        "\n",
        "        if has_distance_from_coordinate(path, musium_hot_point, 0.3):\n",
        "            return 4\n",
        "        if has_distance_from_coordinate(path, circular1_hot_point, 0.25):\n",
        "            return 1\n",
        "        if has_distance_from_coordinate(path, fec_hot_point, 0.25):\n",
        "            return 2\n",
        "\n",
        "        return 3\n",
        "\n",
        "# Bayes algorithm fits the model for 350 positions, \n",
        "# which means almost 1h oh bus travel\n",
        "# Max size of all columns\n",
        "max_column = 350\n",
        "class BayesAlgorithm():\n",
        "    def fit(self, X, y):\n",
        "\n",
        "        train = []\n",
        "        response = []\n",
        "        \n",
        "        for index_line in range(len(X)):\n",
        "            for index_column in range(max_column):\n",
        "                \n",
        "                train_sample = X[index_line][0:index_column+1]\n",
        "                train_sample = np.array(reduce(list.__add__, train_sample))\n",
        "                appended = np.zeros(3*max_column - len(train_sample))\n",
        "                \n",
        "                train_sample = np.append(train_sample, appended)\n",
        "                \n",
        "                train.append(np.array(train_sample))\n",
        "                response.append(y[index_line])\n",
        "        \n",
        "        train = np.array(train)\n",
        "        response = np.array(response)\n",
        "        \n",
        "        self.model = GaussianNB().fit(pd.DataFrame(train), pd.DataFrame(response))\n",
        "    \n",
        "    def predict(self, path):\n",
        "        \n",
        "        train_sample = path.flatten()\n",
        "        appended = np.zeros(3*max_column - len(train_sample))\n",
        "\n",
        "        sample = np.append(np.array(path), appended)\n",
        "        return self.model.predict(np.array(sample).reshape(1, -1))[0]\n",
        "        "
      ],
      "execution_count": 0,
      "outputs": []
    },
    {
      "metadata": {
        "id": "e06aJApZCLHe",
        "colab_type": "code",
        "colab": {}
      },
      "cell_type": "code",
      "source": [
        "# Data Collector Functions\n",
        "\n",
        "def get_data(guid):\n",
        "    global oauth\n",
        "    \n",
        "    print('coletando: ' + guid)\n",
        "    \n",
        "    dt_start = arrow.utcnow().to('America/Sao_Paulo').floor('day')\n",
        "    timestamp_init = dt_start.shift(days=-7).isoformat()\n",
        "    channel = 'info'\n",
        "    timestamp_final = arrow.utcnow().isoformat()\n",
        "    application = 'default'\n",
        "    result = []\n",
        "    lastlen = 0\n",
        "    while timestamp_init < timestamp_final:\n",
        "        try:\n",
        "            stats = oauth.get(\"https://api.demo.konkerlabs.net/v1/{}/incomingEvents?q=device:{} channel:{} timestamp:>{}&sort=oldest&limit=10000\".format(application,guid, channel, timestamp_init)).json()['result']\n",
        "            if (len(stats)<2) and (lastlen<20000):\n",
        "                break\n",
        "            timestamp_init = stats[-1]['timestamp']\n",
        "            result.extend(stats)\n",
        "            lastlen = len(stats)\n",
        "        except:\n",
        "            pass\n",
        "    return result\n",
        "\n",
        "def download_data(data):\n",
        "    with open('data.json', 'w') as file:\n",
        "        file.write(json.dumps(data))\n",
        "\n",
        "    files.download('data.json')"
      ],
      "execution_count": 0,
      "outputs": []
    },
    {
      "metadata": {
        "id": "todgFraOlxOP",
        "colab_type": "code",
        "colab": {}
      },
      "cell_type": "code",
      "source": [
        "# Data Filter Functions\n",
        "\n",
        "# Calculates the distance in km\n",
        "def distance_between(position1, position2):\n",
        "    # approximate radius of earth in km\n",
        "    R = 6373.0\n",
        "\n",
        "    lat1 = radians(position1.latitude)\n",
        "    lon1 = radians(position1.longitude)\n",
        "    lat2 = radians(position2.latitude)\n",
        "    lon2 = radians(position2.longitude)\n",
        "\n",
        "    dlon = lon2 - lon1\n",
        "    dlat = lat2 - lat1\n",
        "    \n",
        "    a = sin(dlat / 2)**2 + cos(lat1) * cos(lat2) * sin(dlon / 2)**2\n",
        "    c = 2 * atan2(sqrt(a), sqrt(1 - a))\n",
        "    \n",
        "    distance = R * c\n",
        "    \n",
        "    return distance\n",
        "\n",
        "# Calculates the distance in km\n",
        "def distance_between_literal(lat1, lon1, lat2, lon2):\n",
        "    # approximate radius of earth in km\n",
        "    R = 6373.0\n",
        "    \n",
        "    lat1 = radians(lat1)\n",
        "    lon1 = radians(lon1)\n",
        "    lat2 = radians(lat2)\n",
        "    lon2 = radians(lon2)\n",
        "\n",
        "    dlon = lon2 - lon1\n",
        "    dlat = lat2 - lat1\n",
        "    \n",
        "    a = sin(dlat / 2)**2 + cos(lat1) * cos(lat2) * sin(dlon / 2)**2\n",
        "    c = 2 * atan2(sqrt(a), sqrt(1 - a))\n",
        "    \n",
        "    distance = R * c\n",
        "    \n",
        "    return distance\n",
        "\n",
        "def collect_time(timestamp):\n",
        "    try:\n",
        "        return datetime.strptime(timestamp, time_formatter1)\n",
        "    except:\n",
        "        return datetime.strptime(timestamp, time_formatter2)\n",
        "\n",
        "# Calculates the velocity in km/h\n",
        "def velocity_between(position1, position2):\n",
        "    \n",
        "    distance = distance_between(position1, position2)\n",
        "    \n",
        "    time1 = collect_time(position1.timestamp)\n",
        "        \n",
        "    time2 = collect_time(position2.timestamp)\n",
        "    \n",
        "    time_delta = (time2 - time1).total_seconds()/3600\n",
        "    \n",
        "    if time_delta == 0:\n",
        "        return 0\n",
        "\n",
        "    return distance/time_delta\n",
        "\n",
        "def has_distance_from_home(path, distance = 1):\n",
        "    return any(distance_between(position, home) < distance for position in path)\n",
        "\n",
        "def has_distance_greater_from_home(path, distance = 1):\n",
        "    return any(distance_between(position, home) > distance for position in path)\n",
        "\n",
        "def has_distance_from_coordinate(path, coordinate, distance = 1):\n",
        "\n",
        "    return any(distance_between_literal(position[1], position[2], coordinate.latitude, coordinate.longitude) < distance for position in path)\n",
        "\n",
        "def parse_coordinate(json):\n",
        "    try:\n",
        "        return Coordinate(json['geolocation']['lat'], \n",
        "                          json['geolocation']['lon'], \n",
        "                          json['timestamp'], \n",
        "                          json['payload']['id_linha'], \n",
        "                          json['incoming']['deviceGuid'])\n",
        "    except:\n",
        "        return Coordinate(json['geolocation']['lat'], \n",
        "                          json['geolocation']['lon'])\n",
        "\n",
        "# Append the next coordenate if it is valid. Returns false when the path ended\n",
        "def validate_and_append_next_coordinate(coordinate, path): \n",
        "    \n",
        "    # Checks if it is the first coordinate of the path\n",
        "    if len(path) == 0:\n",
        "        \n",
        "        # Check if is close to the home, and if is, append the coordinate\n",
        "        if distance_between(coordinate, home) < 0.1:\n",
        "            return True, [coordinate]\n",
        "        else:\n",
        "            return True, []\n",
        "    \n",
        "    # Check if is duplicated\n",
        "    if coordinate == path[-1]:\n",
        "        return True, path\n",
        "    \n",
        "    # Checks if the velocity of the next coordinate is too big or greater than zero\n",
        "    if velocity_between(coordinate, path[-1]) > 100 and velocity_between(coordinate, path[-1]) > 0:\n",
        "        return True, path\n",
        "    \n",
        "    # Checks the time difference\n",
        "    try:\n",
        "        time1 = datetime.strptime(path[-1].timestamp, time_formatter1)\n",
        "    except:\n",
        "        time1 = datetime.strptime(path[-1].timestamp, time_formatter2)\n",
        "        \n",
        "    try:\n",
        "        time2 = datetime.strptime(coordinate.timestamp, time_formatter1)\n",
        "    except:\n",
        "        time2 = datetime.strptime(coordinate.timestamp, time_formatter2)\n",
        "        \n",
        "    if (time2 - time1).total_seconds() > 5*60:\n",
        "        return False, path\n",
        "    \n",
        "    # Checks the id\n",
        "    if coordinate.id_line != path[-1].id_line:\n",
        "        return False, path\n",
        "    \n",
        "    # Check if the path have at least one coordinate far away from the home, so that the path started\n",
        "    biggest_distance = 0\n",
        "    for path_coordinate in path:\n",
        "        if distance_between(path_coordinate, home) > biggest_distance:\n",
        "            biggest_distance = distance_between(path_coordinate, home)\n",
        "    \n",
        "    # If the path already started\n",
        "    if biggest_distance > 1:\n",
        "        # If we are close to home\n",
        "        if distance_between(coordinate, home) < 0.1:\n",
        "            return False, path + [coordinate]\n",
        "        else:\n",
        "            return True, path + [coordinate]\n",
        "    else:\n",
        "        return True, path + [coordinate]\n",
        "    \n",
        "def create_paths(data):\n",
        "    paths = [[]]\n",
        "    index = 0\n",
        "    count = 0\n",
        "    count_int = 0\n",
        "    total = len(data)\n",
        "    for json in data:\n",
        "        coordinate = parse_coordinate(json)\n",
        "        count += 1\n",
        "        if 100*count/total > count_int + 1:\n",
        "            count_int += 1\n",
        "\n",
        "            print(str(count_int) + \"%\", end=' - ')\n",
        "        still_appending, paths[index] = validate_and_append_next_coordinate(coordinate, paths[index])\n",
        "        if not still_appending:\n",
        "            # If there is few values on the path, we can discart it\n",
        "            if len(paths[index]) < 105:\n",
        "                paths[index] = []\n",
        "            else:\n",
        "                if has_distance_from_home(paths[index]):\n",
        "                    if has_distance_greater_from_home(paths[index]):\n",
        "                        index += 1\n",
        "                        paths.append([])\n",
        "                    else:\n",
        "                        paths[index] = []\n",
        "                else:\n",
        "                    paths[index] = []\n",
        "        elif count == len(data):\n",
        "            paths.pop(index)\n",
        "            \n",
        "                        \n",
        "    return paths"
      ],
      "execution_count": 0,
      "outputs": []
    },
    {
      "metadata": {
        "id": "Igqc5gZBmE6i",
        "colab_type": "code",
        "colab": {}
      },
      "cell_type": "code",
      "source": [
        "# Data Visualization\n",
        "\n",
        "def plot_path(path):\n",
        "\n",
        "    latitudes = [coordinate.latitude for coordinate in path]\n",
        "    longitudes = [coordinate.longitude for coordinate in path]\n",
        "    \n",
        "    numberOfDots = len(path)\n",
        "    colors = cm.rainbow(np.linspace(0, 1, numberOfDots))\n",
        "    \n",
        "    plt.margins(0) # Fit the map in the image\n",
        "    \n",
        "    plt.scatter(longitudes, latitudes, color=colors)\n",
        "    \n",
        "    plt.scatter(bus_stop_longitude, bus_stop_latitude, marker='*')\n",
        "        \n",
        "    plt.show()\n",
        "\n",
        "def plot_correctness(correctness):\n",
        "    plt.plot(range(len(correctness)), correctness)\n",
        "    plt.ylabel('Porcentagem')\n",
        "    plt.xlabel('# Leituras')\n",
        "    plt.title('Porcentagem de acerto por # de leituras')\n",
        "    plt.grid(True)\n",
        "    plt.show()"
      ],
      "execution_count": 0,
      "outputs": []
    },
    {
      "metadata": {
        "id": "t0ZH_j8MmQS5",
        "colab_type": "code",
        "colab": {}
      },
      "cell_type": "code",
      "source": [
        "# Data Processing Functions\n",
        "\n",
        "def average_window(window):\n",
        "    latitude_sum = reduce(lambda summation, coordinate: summation + coordinate.latitude, window, 0)\n",
        "    longitude_sum = reduce(lambda summation, coordinate: summation + coordinate.longitude, window, 0)\n",
        "    \n",
        "    latitude_avg = latitude_sum/len(window)\n",
        "    longitude_avg = longitude_sum/len(window)\n",
        "    \n",
        "    coordinate_avg = Coordinate.from_coordinate(window[0])\n",
        "    coordinate_avg.latitude = latitude_avg\n",
        "    coordinate_avg.longitude = longitude_avg\n",
        "    \n",
        "    return coordinate_avg\n",
        "    \n",
        "def apply_average_window_on_path(path, window_size = 10, window_shift = 2):\n",
        "    index = 0\n",
        "    new_path = []\n",
        "    while index < len(path):\n",
        "        window = path[index:index + window_size]\n",
        "        new_coordinate = average_window(window)\n",
        "        new_path.append(new_coordinate)\n",
        "        index += window_shift\n",
        "        \n",
        "    return new_path\n",
        "\n",
        "def apply_average_time_window(path, window_time = 10, window_time_shift = 2):\n",
        "    index = 0\n",
        "    new_path = []\n",
        "    initial_time = collect_time(path[0].timestamp)\n",
        "    \n",
        "    while index < len(path):\n",
        "        \n",
        "        window = []\n",
        "        while index < len(path) and collect_time(path[index].timestamp) < initial_time + timedelta(seconds=window_time):\n",
        "            window.append(path[index])\n",
        "            index += 1\n",
        "            \n",
        "        initial_time += timedelta(seconds=window_time)\n",
        "        \n",
        "        if len(window) > 0:\n",
        "            average = average_window(window)\n",
        "            \n",
        "            new_path.append(average)\n",
        "            \n",
        "        \n",
        "    return new_path\n",
        "\n",
        "def separate_X_coordinate(coordinate, first_time):\n",
        "    current_time = collect_time(coordinate.timestamp)\n",
        "    difference_time = (current_time - first_time).total_seconds() \n",
        "    return [difference_time, coordinate.latitude, coordinate.longitude]\n",
        "\n",
        "def separate_Y_id_line(path):\n",
        "    return path[0].id_line\n",
        "\n",
        "def separate_X_paths(paths):\n",
        "    X = []\n",
        "    for path in paths:\n",
        "        first_time = collect_time(path[0].timestamp)\n",
        "        X.append(list(map(lambda coordinate: separate_X_coordinate(coordinate, first_time), path)))\n",
        "        \n",
        "    return X\n",
        "\n",
        "def separate_Y_paths(paths):\n",
        "    Y = []\n",
        "    for path in paths:\n",
        "        Y.append(separate_Y_id_line(path))\n",
        "        \n",
        "    return Y     \n",
        "\n",
        "def separate_train_test(paths):\n",
        "    all_X = separate_X_paths(paths) \n",
        "    all_y = separate_Y_paths(paths)\n",
        "    \n",
        "    X_train, X_test, y_train, y_test = train_test_split(all_X, all_y, random_state=1, test_size=0.2, stratify=all_y)\n",
        "    \n",
        "    return X_train, X_test, y_train, y_test"
      ],
      "execution_count": 0,
      "outputs": []
    },
    {
      "metadata": {
        "id": "0Zsz2eJnYp7o",
        "colab_type": "code",
        "colab": {}
      },
      "cell_type": "code",
      "source": [
        "# Algorithm Functions\n",
        "def predict_X(X, predictor):\n",
        "    predicteds = []\n",
        "    \n",
        "    for path in X:\n",
        "\n",
        "        predicted = []\n",
        "        \n",
        "        predictor.next_path()\n",
        "        for coordinate in path:\n",
        "            predicted.append(predictor.iterate(coordinate))\n",
        "        \n",
        "        predicteds.append(predicted)\n",
        "    \n",
        "    return predicteds\n",
        "\n",
        "def predict(paths, predictor):\n",
        "    #X_train, X_test, y_train, y_test = separate_train_test(paths)\n",
        "    \n",
        "    X = separate_X_paths(paths) \n",
        "    y = separate_Y_paths(paths)\n",
        "    \n",
        "    prediction_paths = []\n",
        "    #predictor = Predictor(algorithm)\n",
        "    #predictor.train(X_train, y_train)\n",
        "    for path in X:\n",
        "\n",
        "        prediction_path = []\n",
        "        \n",
        "        predictor.next_path()\n",
        "        for coordinate in path:\n",
        "            prediction_path.append(predictor.iterate(coordinate))\n",
        "        \n",
        "        prediction_paths.append(prediction_path)\n",
        "    \n",
        "    return prediction_paths, y\n",
        "\n",
        "def anilyze_prediction(prediction, y):\n",
        "    # Parses every value of the prediction to a boolean matching the correct response of y\n",
        "    correctness = []\n",
        "    max_column = 0\n",
        "    for index in range(len(y)):\n",
        "        correctness.append([])\n",
        "        current_column = 0\n",
        "        for predict in prediction[index]:\n",
        "            correctness[index].append(predict == y[index])\n",
        "            current_column += 1\n",
        "            if current_column > max_column:\n",
        "                max_column = current_column\n",
        "\n",
        "    # Sum the correctness of every column to analyze the correctness per value readed\n",
        "    correct_number_column = []\n",
        "    for column in range(max_column):\n",
        "        correct_number = 0\n",
        "        number_of_read = 0\n",
        "        for line in range(len(correctness)):\n",
        "            \n",
        "            try: \n",
        "                \n",
        "                if correctness[line][column]:\n",
        "                    correct_number += 1\n",
        "                number_of_read += 1\n",
        "            except:\n",
        "                pass\n",
        "        \n",
        "        correct_number_column.append(correct_number *100 / number_of_read)\n",
        "    return correct_number_column"
      ],
      "execution_count": 0,
      "outputs": []
    },
    {
      "metadata": {
        "id": "CnXwZV0HCe0t",
        "colab_type": "code",
        "colab": {}
      },
      "cell_type": "code",
      "source": [
        "# Authenticating\n",
        "\n",
        "client = BackendApplicationClient(client_id=username)\n",
        "oauth = OAuth2Session(client=client)\n",
        "token = oauth.fetch_token(token_url='{}/v1/oauth/token'.format(base_api),client_id=username,client_secret=password)"
      ],
      "execution_count": 0,
      "outputs": []
    },
    {
      "metadata": {
        "id": "dDCPjQGYCxVY",
        "colab_type": "code",
        "outputId": "ba997837-4038-4a4d-b860-92ad066b92b8",
        "colab": {
          "base_uri": "https://localhost:8080/",
          "height": 102
        }
      },
      "cell_type": "code",
      "source": [
        "# Reading all circular data\n",
        "\n",
        "data = []\n",
        "home = Coordinate(latitude_home, longitude_home)\n",
        "for circular in available_circulars:\n",
        "    data += get_data(circular)"
      ],
      "execution_count": 16,
      "outputs": [
        {
          "output_type": "stream",
          "text": [
            "coletando: 6ce968a1-a32b-4f8c-bc39-4463f50f4591\n",
            "coletando: a028f083-8375-45ec-a42f-7e864fd5f8d7\n",
            "coletando: eb0ec27f-16d0-4504-a331-af5b1e24eac6\n",
            "coletando: 826f5fe4-ec9b-4de7-87f8-93be40963612\n",
            "coletando: 8a33a2fe-8325-4c71-b937-8cc75b85bca4\n"
          ],
          "name": "stdout"
        }
      ]
    },
    {
      "metadata": {
        "id": "kCTNbnO1DrNB",
        "colab_type": "code",
        "outputId": "024ca85b-7577-4184-e04a-c8d3a1286ddf",
        "colab": {
          "base_uri": "https://localhost:8080/",
          "height": 272
        }
      },
      "cell_type": "code",
      "source": [
        "data[0]"
      ],
      "execution_count": 17,
      "outputs": [
        {
          "output_type": "execute_result",
          "data": {
            "text/plain": [
              "{'geolocation': {'elev': 622.5, 'lat': -22.82917, 'lon': -47.060447},\n",
              " 'incoming': {'channel': 'info',\n",
              "  'deviceGuid': '6ce968a1-a32b-4f8c-bc39-4463f50f4591'},\n",
              " 'ingestedTimestamp': '2019-04-09T09:43:12.007Z',\n",
              " 'payload': {'_elev': 622.5,\n",
              "  '_lat': -22.82917,\n",
              "  '_lon': -47.060447,\n",
              "  '_pdop': 1.7,\n",
              "  'hora_coletado': '2019-04-09 06:43:01',\n",
              "  'id_linha': 2,\n",
              "  'numero_satelites': 5,\n",
              "  'sinal': 11,\n",
              "  'temperatura': 20.04,\n",
              "  'velocidade_media_gps': 19.54},\n",
              " 'timestamp': '2019-04-09T09:43:12.007Z'}"
            ]
          },
          "metadata": {
            "tags": []
          },
          "execution_count": 17
        }
      ]
    },
    {
      "metadata": {
        "id": "BHd9vKdCGmtC",
        "colab_type": "code",
        "colab": {}
      },
      "cell_type": "code",
      "source": [
        "# Getting all possible id_linha\n",
        "\n",
        "#id_lines = {}\n",
        "#for json in data:\n",
        "#    id_line = json.id_line\n",
        "#    if id_line in id_lines:\n",
        "#        id_lines[id_line] += 1\n",
        "#    else:\n",
        "#        id_lines[id_line] = 1\n",
        "#\n",
        "#print(id_lines)"
      ],
      "execution_count": 0,
      "outputs": []
    },
    {
      "metadata": {
        "id": "MeKts3bJPTwO",
        "colab_type": "code",
        "outputId": "a365176c-d3fb-485d-b19f-c1598cd4ef37",
        "colab": {
          "base_uri": "https://localhost:8080/",
          "height": 54
        }
      },
      "cell_type": "code",
      "source": [
        "paths = create_paths(data)"
      ],
      "execution_count": 19,
      "outputs": [
        {
          "output_type": "stream",
          "text": [
            "1% - 2% - 3% - 4% - 5% - 6% - 7% - 8% - 9% - 10% - 11% - 12% - 13% - 14% - 15% - 16% - 17% - 18% - 19% - 20% - 21% - 22% - 23% - 24% - 25% - 26% - 27% - 28% - 29% - 30% - 31% - 32% - 33% - 34% - 35% - 36% - 37% - 38% - 39% - 40% - 41% - 42% - 43% - 44% - 45% - 46% - 47% - 48% - 49% - 50% - 51% - 52% - 53% - 54% - 55% - 56% - 57% - 58% - 59% - 60% - 61% - 62% - 63% - 64% - 65% - 66% - 67% - 68% - 69% - 70% - 71% - 72% - 73% - 74% - 75% - 76% - 77% - 78% - 79% - 80% - 81% - 82% - 83% - 84% - 85% - 86% - 87% - 88% - 89% - 90% - 91% - 92% - 93% - 94% - 95% - 96% - 97% - 98% - 99% - "
          ],
          "name": "stdout"
        }
      ]
    },
    {
      "metadata": {
        "id": "6LLl0oW8_DoO",
        "colab_type": "code",
        "colab": {}
      },
      "cell_type": "code",
      "source": [
        "#for i in range(len(paths)):\n",
        "#    print('iteration: ' + str(i) + ' - id: ' + str(paths[i][0].id_line))\n",
        "#    plot_path(paths[i])"
      ],
      "execution_count": 0,
      "outputs": []
    },
    {
      "metadata": {
        "id": "b4CzucdLRSv4",
        "colab_type": "code",
        "colab": {}
      },
      "cell_type": "code",
      "source": [
        "#paths_avg = []\n",
        "#for path in paths:\n",
        "#    paths_avg.append(apply_average_window_on_path(path))"
      ],
      "execution_count": 0,
      "outputs": []
    },
    {
      "metadata": {
        "id": "YgtyfWopeoOi",
        "colab_type": "code",
        "colab": {}
      },
      "cell_type": "code",
      "source": [
        "#for i in range(len(paths_avg)):\n",
        "#    print('iteration: ' + str(i) + ' - id: ' + str(paths_avg[i][0].id_line))\n",
        "#    plot_path(paths_avg[i])"
      ],
      "execution_count": 0,
      "outputs": []
    },
    {
      "metadata": {
        "id": "fd1uYWoKGPi9",
        "colab_type": "code",
        "colab": {}
      },
      "cell_type": "code",
      "source": [
        "paths_avg = []\n",
        "for path in paths:\n",
        "    paths_avg.append(apply_average_time_window(path))"
      ],
      "execution_count": 0,
      "outputs": []
    },
    {
      "metadata": {
        "id": "q1ZjcpJQJdwH",
        "colab_type": "code",
        "colab": {}
      },
      "cell_type": "code",
      "source": [
        "#for i in range(len(paths_avg)):\n",
        "#    print('iteration: ' + str(i) + ' - id: ' + str(paths_avg[i][0].id_line))\n",
        "#    plot_path(paths_avg[i])"
      ],
      "execution_count": 0,
      "outputs": []
    },
    {
      "metadata": {
        "id": "VicGemmmOzYb",
        "colab_type": "code",
        "colab": {}
      },
      "cell_type": "code",
      "source": [
        "# Use: https://www.mapcustomizer.com/#bulkEntryModal\n",
        "#for coordinate in paths[385]:\n",
        "#    print(coordinate.latitude, coordinate.longitude)\n",
        "#has_distance_greater_from_home(paths[368])\n",
        "#paths.pop(385)\n",
        "#pass"
      ],
      "execution_count": 0,
      "outputs": []
    },
    {
      "metadata": {
        "id": "6U5Psb0YScXj",
        "colab_type": "code",
        "colab": {}
      },
      "cell_type": "code",
      "source": [
        "# Getting all possible id_linha in paths\n",
        "\n",
        "#id_lines = {}\n",
        "#for path in paths:\n",
        "#    id_line = path[0].id_line\n",
        "#    if id_line in id_lines:\n",
        "#        id_lines[id_line] += 1\n",
        "#    else:\n",
        "#        id_lines[id_line] = 1\n",
        "#\n",
        "#print(id_lines)"
      ],
      "execution_count": 0,
      "outputs": []
    },
    {
      "metadata": {
        "id": "aOXpERGMZD6m",
        "colab_type": "code",
        "colab": {}
      },
      "cell_type": "code",
      "source": [
        "#numbers_id = {1:0, 2:0, 3:0, 4:0}\n",
        "#for path in paths:\n",
        "#    id_line = path[0].id_line\n",
        "#    start_time = collect_time(path[0].timestamp)\n",
        "#    stop_time = collect_time(path[-1].timestamp)\n",
        "#    \n",
        "#    numbers_id[id_line] += len(path)/(stop_time - start_time).total_seconds() \n",
        "#    \n",
        "#numbers_id[1] /= id_lines[1]\n",
        "#numbers_id[2] /= id_lines[2]\n",
        "#numbers_id[3] /= id_lines[3]\n",
        "#numbers_id[4] /= id_lines[4]\n",
        "#\n",
        "#print(numbers_id)\n",
        "#      "
      ],
      "execution_count": 0,
      "outputs": []
    },
    {
      "metadata": {
        "id": "EWMMtujZIwql",
        "colab_type": "code",
        "colab": {}
      },
      "cell_type": "code",
      "source": [
        "# Getting all possible device id\n",
        "#quantity_and_value = {'quantity': 0, 'value': 0}\n",
        "#numbers_id = {1: quantity_and_value.copy(), 2: quantity_and_value.copy(), 3: quantity_and_value.copy(), 4: quantity_and_value.copy()}\n",
        "#id_devices = {circulino4: copy.deepcopy(numbers_id), circulino5: copy.deepcopy(numbers_id), circulino6: copy.deepcopy(numbers_id), circulino7: copy.deepcopy(numbers_id), circulino8: copy.deepcopy(numbers_id)}\n",
        "#for path in paths:\n",
        "#    id_device = path[0].device_guid\n",
        "#    id_line = path[0].id_line\n",
        "#    start_time = collect_time(path[0].timestamp)\n",
        "#    stop_time = collect_time(path[-1].timestamp)\n",
        "#    \n",
        "#    id_devices[id_device][id_line]['value'] += len(path)/(stop_time - start_time).total_seconds() \n",
        "#    id_devices[id_device][id_line]['quantity'] += 1\n",
        "#    \n",
        "#for id_device in available_circulars:\n",
        "#    \n",
        "#    if id_devices[id_device][1]['quantity'] > 0:\n",
        "#        id_devices[id_device][1]['value'] /= id_devices[id_device][1]['quantity']\n",
        "#    if id_devices[id_device][2]['quantity'] > 0:\n",
        "#        id_devices[id_device][2]['value'] /= id_devices[id_device][2]['quantity']\n",
        "#    if id_devices[id_device][3]['quantity'] > 0:\n",
        "#        id_devices[id_device][3]['value'] /= id_devices[id_device][3]['quantity']\n",
        "#    if id_devices[id_device][4]['quantity'] > 0:\n",
        "#        id_devices[id_device][4]['value'] /= id_devices[id_device][4]['quantity']\n",
        "#\n",
        "#print(id_devices)"
      ],
      "execution_count": 0,
      "outputs": []
    },
    {
      "metadata": {
        "id": "c3BWyYdFANHQ",
        "colab_type": "code",
        "colab": {}
      },
      "cell_type": "code",
      "source": [
        "#X_train, X_test, y_train, y_test = separate_train_test(paths)\n",
        "#musium_hot_point = Coordinate(-22.814127, -47.058833)\n",
        "#circular1_hot_point = Coordinate(-22.824493, -47.059594)\n",
        "#fec_hot_point = Coordinate(-22.817975, -47.059667)\n",
        "#index = 12\n",
        "#current_path = all_X = separate_X_paths([paths[index]])[0] \n",
        "#\n",
        "#if has_distance_from_coordinate(current_path, musium_hot_point, 0.3):\n",
        "#    print(4)\n",
        "#if has_distance_from_coordinate(current_path, circular1_hot_point, 0.25):\n",
        "#    print(1)\n",
        "#if has_distance_from_coordinate(current_path, fec_hot_point, 0.25):\n",
        "#    print(2)\n",
        "#\n",
        "#print(3)\n",
        "#"
      ],
      "execution_count": 0,
      "outputs": []
    },
    {
      "metadata": {
        "id": "UAklBjstYsXa",
        "colab_type": "code",
        "colab": {}
      },
      "cell_type": "code",
      "source": [
        "#has_distande_from()"
      ],
      "execution_count": 0,
      "outputs": []
    },
    {
      "metadata": {
        "id": "LOqfXrXpG6-w",
        "colab_type": "code",
        "colab": {}
      },
      "cell_type": "code",
      "source": [
        "predictor = Predictor(DumpAlgorithm())\n",
        "prediction, y = predict(paths_avg, predictor)"
      ],
      "execution_count": 0,
      "outputs": []
    },
    {
      "metadata": {
        "id": "Pv7ivrkbbzyf",
        "colab_type": "code",
        "colab": {}
      },
      "cell_type": "code",
      "source": [
        "\n",
        "correctness = anilyze_prediction(prediction, y)\n"
      ],
      "execution_count": 0,
      "outputs": []
    },
    {
      "metadata": {
        "id": "EcK2c189lom-",
        "colab_type": "code",
        "outputId": "ec328775-b02f-49f0-fef0-01eab8da6160",
        "colab": {
          "base_uri": "https://localhost:8080/",
          "height": 295
        }
      },
      "cell_type": "code",
      "source": [
        "plot_correctness(correctness)"
      ],
      "execution_count": 33,
      "outputs": [
        {
          "output_type": "display_data",
          "data": {
            "image/png": "[encoded data removed]",
            "text/plain": [
              "<Figure size 432x288 with 1 Axes>"
            ]
          },
          "metadata": {
            "tags": []
          }
        }
      ]
    },
    {
      "metadata": {
        "id": "IwbqcMc9gLSI",
        "colab_type": "code",
        "outputId": "d63bc5ef-f81c-41a8-b751-754197864bf9",
        "colab": {
          "base_uri": "https://localhost:8080/",
          "height": 71
        }
      },
      "cell_type": "code",
      "source": [
        "predictor = Predictor(BayesAlgorithm())\n",
        "X_train, X_test, y_train, y_test = separate_train_test(paths_avg)\n",
        "predictor.train(X_train, y_train)\n"
      ],
      "execution_count": 94,
      "outputs": [
        {
          "output_type": "stream",
          "text": [
            "/usr/local/lib/python3.6/dist-packages/sklearn/utils/validation.py:761: DataConversionWarning: A column-vector y was passed when a 1d array was expected. Please change the shape of y to (n_samples, ), for example using ravel().\n",
            "  y = column_or_1d(y, warn=True)\n"
          ],
          "name": "stderr"
        }
      ]
    },
    {
      "metadata": {
        "id": "1ck1Aqx4xFCw",
        "colab_type": "code",
        "colab": {}
      },
      "cell_type": "code",
      "source": [
        "prediction = predict_X(X_test, predictor)\n"
      ],
      "execution_count": 0,
      "outputs": []
    },
    {
      "metadata": {
        "id": "HJZyE32L1ozy",
        "colab_type": "code",
        "colab": {
          "base_uri": "https://localhost:8080/",
          "height": 295
        },
        "outputId": "fc034592-14e5-4810-dc9b-4922fa7209fa"
      },
      "cell_type": "code",
      "source": [
        "correctness = anilyze_prediction(prediction, y_test)\n",
        "plot_correctness(correctness)"
      ],
      "execution_count": 100,
      "outputs": [
        {
          "output_type": "display_data",
          "data": {
            "image/png": "[encoded data removed]",
            "text/plain": [
              "<Figure size 432x288 with 1 Axes>"
            ]
          },
          "metadata": {
            "tags": []
          }
        }
      ]
    }
  ]
}